{
  "nbformat": 4,
  "nbformat_minor": 0,
  "metadata": {
    "colab": {
      "provenance": []
    },
    "kernelspec": {
      "name": "python3",
      "display_name": "Python 3"
    },
    "language_info": {
      "name": "python"
    }
  },
  "cells": [
    {
      "cell_type": "code",
      "execution_count": 12,
      "metadata": {
        "colab": {
          "base_uri": "https://localhost:8080/"
        },
        "id": "1GA-GTuMBLKU",
        "outputId": "d07d55ad-6798-4c23-ce18-7767781fcdf1"
      },
      "outputs": [
        {
          "output_type": "stream",
          "name": "stdout",
          "text": [
            "Drive already mounted at /content/drive; to attempt to forcibly remount, call drive.mount(\"/content/drive\", force_remount=True).\n"
          ]
        }
      ],
      "source": [
        "from google.colab import drive\n",
        "drive.mount('/content/drive')"
      ]
    },
    {
      "cell_type": "code",
      "source": [
        "# Importing necessary libraries\n",
        "import pandas as pd\n",
        "import numpy as np\n",
        "import matplotlib.pyplot as plt\n",
        "import seaborn as sns\n",
        "from sklearn.preprocessing import StandardScaler\n",
        "#Importing warnings\n",
        "import warnings\n",
        "warnings.filterwarnings('ignore')\n",
        "from sklearn.metrics import r2_score,mean_absolute_error,mean_squared_error\n",
        "from sklearn.model_selection import train_test_split,GridSearchCV\n",
        "from sklearn.tree import DecisionTreeRegressor\n",
        "from xgboost import XGBRegressor\n",
        "from sklearn.ensemble import RandomForestRegressor\n",
        "from sklearn.metrics import mean_squared_error, r2_score, mean_absolute_error\n",
        "\n",
        "#reading csv file\n",
        "data = pd.read_csv('/content/drive/MyDrive/new_election_dataset (1).csv')\n",
        "data.head()"
      ],
      "metadata": {
        "colab": {
          "base_uri": "https://localhost:8080/",
          "height": 256
        },
        "id": "NLiFj8cfBS-d",
        "outputId": "9167f8f1-b061-46f2-8a15-cbafd4968eb1"
      },
      "execution_count": 21,
      "outputs": [
        {
          "output_type": "execute_result",
          "data": {
            "text/plain": [
              "   TimeElapsed  time  territoryName  totalMandates  availableMandates  \\\n",
              "0            0     8              0              0                 16   \n",
              "1            0     8              0              0                 16   \n",
              "2            0     8              0              0                 16   \n",
              "3            0     8              0              0                 16   \n",
              "4            0     8              0              0                 16   \n",
              "\n",
              "   numParishes  numParishesApproved  blankVotes  blankVotesPercentage  \\\n",
              "0          147                   12         186                  2.92   \n",
              "1          147                   12         186                  2.92   \n",
              "2          147                   12         186                  2.92   \n",
              "3          147                   12         186                  2.92   \n",
              "4          147                   12         186                  2.92   \n",
              "\n",
              "   nullVotes  ...  pre.subscribedVoters  pre.totalVoters  Party  Mandates  \\\n",
              "0        101  ...                 12511             6826     17         0   \n",
              "1        101  ...                 12511             6826      1         0   \n",
              "2        101  ...                 12511             6826      2         0   \n",
              "3        101  ...                 12511             6826     11         0   \n",
              "4        101  ...                 12511             6826     10         0   \n",
              "\n",
              "   Percentage  validVotesPercentage  Votes  Hondt  FinalMandates  Date  \n",
              "0       34.33                 35.95   2187      7              7     0  \n",
              "1        7.47                  7.82    476      1              2     0  \n",
              "2        6.14                  6.43    391      1              1     0  \n",
              "3        2.39                  2.50    152      0              0     0  \n",
              "4        2.04                  2.14    130      0              0     0  \n",
              "\n",
              "[5 rows x 29 columns]"
            ],
            "text/html": [
              "\n",
              "  <div id=\"df-dc859027-b18e-409b-bb9b-a4599cdc8178\" class=\"colab-df-container\">\n",
              "    <div>\n",
              "<style scoped>\n",
              "    .dataframe tbody tr th:only-of-type {\n",
              "        vertical-align: middle;\n",
              "    }\n",
              "\n",
              "    .dataframe tbody tr th {\n",
              "        vertical-align: top;\n",
              "    }\n",
              "\n",
              "    .dataframe thead th {\n",
              "        text-align: right;\n",
              "    }\n",
              "</style>\n",
              "<table border=\"1\" class=\"dataframe\">\n",
              "  <thead>\n",
              "    <tr style=\"text-align: right;\">\n",
              "      <th></th>\n",
              "      <th>TimeElapsed</th>\n",
              "      <th>time</th>\n",
              "      <th>territoryName</th>\n",
              "      <th>totalMandates</th>\n",
              "      <th>availableMandates</th>\n",
              "      <th>numParishes</th>\n",
              "      <th>numParishesApproved</th>\n",
              "      <th>blankVotes</th>\n",
              "      <th>blankVotesPercentage</th>\n",
              "      <th>nullVotes</th>\n",
              "      <th>...</th>\n",
              "      <th>pre.subscribedVoters</th>\n",
              "      <th>pre.totalVoters</th>\n",
              "      <th>Party</th>\n",
              "      <th>Mandates</th>\n",
              "      <th>Percentage</th>\n",
              "      <th>validVotesPercentage</th>\n",
              "      <th>Votes</th>\n",
              "      <th>Hondt</th>\n",
              "      <th>FinalMandates</th>\n",
              "      <th>Date</th>\n",
              "    </tr>\n",
              "  </thead>\n",
              "  <tbody>\n",
              "    <tr>\n",
              "      <th>0</th>\n",
              "      <td>0</td>\n",
              "      <td>8</td>\n",
              "      <td>0</td>\n",
              "      <td>0</td>\n",
              "      <td>16</td>\n",
              "      <td>147</td>\n",
              "      <td>12</td>\n",
              "      <td>186</td>\n",
              "      <td>2.92</td>\n",
              "      <td>101</td>\n",
              "      <td>...</td>\n",
              "      <td>12511</td>\n",
              "      <td>6826</td>\n",
              "      <td>17</td>\n",
              "      <td>0</td>\n",
              "      <td>34.33</td>\n",
              "      <td>35.95</td>\n",
              "      <td>2187</td>\n",
              "      <td>7</td>\n",
              "      <td>7</td>\n",
              "      <td>0</td>\n",
              "    </tr>\n",
              "    <tr>\n",
              "      <th>1</th>\n",
              "      <td>0</td>\n",
              "      <td>8</td>\n",
              "      <td>0</td>\n",
              "      <td>0</td>\n",
              "      <td>16</td>\n",
              "      <td>147</td>\n",
              "      <td>12</td>\n",
              "      <td>186</td>\n",
              "      <td>2.92</td>\n",
              "      <td>101</td>\n",
              "      <td>...</td>\n",
              "      <td>12511</td>\n",
              "      <td>6826</td>\n",
              "      <td>1</td>\n",
              "      <td>0</td>\n",
              "      <td>7.47</td>\n",
              "      <td>7.82</td>\n",
              "      <td>476</td>\n",
              "      <td>1</td>\n",
              "      <td>2</td>\n",
              "      <td>0</td>\n",
              "    </tr>\n",
              "    <tr>\n",
              "      <th>2</th>\n",
              "      <td>0</td>\n",
              "      <td>8</td>\n",
              "      <td>0</td>\n",
              "      <td>0</td>\n",
              "      <td>16</td>\n",
              "      <td>147</td>\n",
              "      <td>12</td>\n",
              "      <td>186</td>\n",
              "      <td>2.92</td>\n",
              "      <td>101</td>\n",
              "      <td>...</td>\n",
              "      <td>12511</td>\n",
              "      <td>6826</td>\n",
              "      <td>2</td>\n",
              "      <td>0</td>\n",
              "      <td>6.14</td>\n",
              "      <td>6.43</td>\n",
              "      <td>391</td>\n",
              "      <td>1</td>\n",
              "      <td>1</td>\n",
              "      <td>0</td>\n",
              "    </tr>\n",
              "    <tr>\n",
              "      <th>3</th>\n",
              "      <td>0</td>\n",
              "      <td>8</td>\n",
              "      <td>0</td>\n",
              "      <td>0</td>\n",
              "      <td>16</td>\n",
              "      <td>147</td>\n",
              "      <td>12</td>\n",
              "      <td>186</td>\n",
              "      <td>2.92</td>\n",
              "      <td>101</td>\n",
              "      <td>...</td>\n",
              "      <td>12511</td>\n",
              "      <td>6826</td>\n",
              "      <td>11</td>\n",
              "      <td>0</td>\n",
              "      <td>2.39</td>\n",
              "      <td>2.50</td>\n",
              "      <td>152</td>\n",
              "      <td>0</td>\n",
              "      <td>0</td>\n",
              "      <td>0</td>\n",
              "    </tr>\n",
              "    <tr>\n",
              "      <th>4</th>\n",
              "      <td>0</td>\n",
              "      <td>8</td>\n",
              "      <td>0</td>\n",
              "      <td>0</td>\n",
              "      <td>16</td>\n",
              "      <td>147</td>\n",
              "      <td>12</td>\n",
              "      <td>186</td>\n",
              "      <td>2.92</td>\n",
              "      <td>101</td>\n",
              "      <td>...</td>\n",
              "      <td>12511</td>\n",
              "      <td>6826</td>\n",
              "      <td>10</td>\n",
              "      <td>0</td>\n",
              "      <td>2.04</td>\n",
              "      <td>2.14</td>\n",
              "      <td>130</td>\n",
              "      <td>0</td>\n",
              "      <td>0</td>\n",
              "      <td>0</td>\n",
              "    </tr>\n",
              "  </tbody>\n",
              "</table>\n",
              "<p>5 rows × 29 columns</p>\n",
              "</div>\n",
              "    <div class=\"colab-df-buttons\">\n",
              "\n",
              "  <div class=\"colab-df-container\">\n",
              "    <button class=\"colab-df-convert\" onclick=\"convertToInteractive('df-dc859027-b18e-409b-bb9b-a4599cdc8178')\"\n",
              "            title=\"Convert this dataframe to an interactive table.\"\n",
              "            style=\"display:none;\">\n",
              "\n",
              "  <svg xmlns=\"http://www.w3.org/2000/svg\" height=\"24px\" viewBox=\"0 -960 960 960\">\n",
              "    <path d=\"M120-120v-720h720v720H120Zm60-500h600v-160H180v160Zm220 220h160v-160H400v160Zm0 220h160v-160H400v160ZM180-400h160v-160H180v160Zm440 0h160v-160H620v160ZM180-180h160v-160H180v160Zm440 0h160v-160H620v160Z\"/>\n",
              "  </svg>\n",
              "    </button>\n",
              "\n",
              "  <style>\n",
              "    .colab-df-container {\n",
              "      display:flex;\n",
              "      gap: 12px;\n",
              "    }\n",
              "\n",
              "    .colab-df-convert {\n",
              "      background-color: #E8F0FE;\n",
              "      border: none;\n",
              "      border-radius: 50%;\n",
              "      cursor: pointer;\n",
              "      display: none;\n",
              "      fill: #1967D2;\n",
              "      height: 32px;\n",
              "      padding: 0 0 0 0;\n",
              "      width: 32px;\n",
              "    }\n",
              "\n",
              "    .colab-df-convert:hover {\n",
              "      background-color: #E2EBFA;\n",
              "      box-shadow: 0px 1px 2px rgba(60, 64, 67, 0.3), 0px 1px 3px 1px rgba(60, 64, 67, 0.15);\n",
              "      fill: #174EA6;\n",
              "    }\n",
              "\n",
              "    .colab-df-buttons div {\n",
              "      margin-bottom: 4px;\n",
              "    }\n",
              "\n",
              "    [theme=dark] .colab-df-convert {\n",
              "      background-color: #3B4455;\n",
              "      fill: #D2E3FC;\n",
              "    }\n",
              "\n",
              "    [theme=dark] .colab-df-convert:hover {\n",
              "      background-color: #434B5C;\n",
              "      box-shadow: 0px 1px 3px 1px rgba(0, 0, 0, 0.15);\n",
              "      filter: drop-shadow(0px 1px 2px rgba(0, 0, 0, 0.3));\n",
              "      fill: #FFFFFF;\n",
              "    }\n",
              "  </style>\n",
              "\n",
              "    <script>\n",
              "      const buttonEl =\n",
              "        document.querySelector('#df-dc859027-b18e-409b-bb9b-a4599cdc8178 button.colab-df-convert');\n",
              "      buttonEl.style.display =\n",
              "        google.colab.kernel.accessAllowed ? 'block' : 'none';\n",
              "\n",
              "      async function convertToInteractive(key) {\n",
              "        const element = document.querySelector('#df-dc859027-b18e-409b-bb9b-a4599cdc8178');\n",
              "        const dataTable =\n",
              "          await google.colab.kernel.invokeFunction('convertToInteractive',\n",
              "                                                    [key], {});\n",
              "        if (!dataTable) return;\n",
              "\n",
              "        const docLinkHtml = 'Like what you see? Visit the ' +\n",
              "          '<a target=\"_blank\" href=https://colab.research.google.com/notebooks/data_table.ipynb>data table notebook</a>'\n",
              "          + ' to learn more about interactive tables.';\n",
              "        element.innerHTML = '';\n",
              "        dataTable['output_type'] = 'display_data';\n",
              "        await google.colab.output.renderOutput(dataTable, element);\n",
              "        const docLink = document.createElement('div');\n",
              "        docLink.innerHTML = docLinkHtml;\n",
              "        element.appendChild(docLink);\n",
              "      }\n",
              "    </script>\n",
              "  </div>\n",
              "\n",
              "\n",
              "<div id=\"df-ceb11a03-261c-463e-b067-2c2726fe07ca\">\n",
              "  <button class=\"colab-df-quickchart\" onclick=\"quickchart('df-ceb11a03-261c-463e-b067-2c2726fe07ca')\"\n",
              "            title=\"Suggest charts\"\n",
              "            style=\"display:none;\">\n",
              "\n",
              "<svg xmlns=\"http://www.w3.org/2000/svg\" height=\"24px\"viewBox=\"0 0 24 24\"\n",
              "     width=\"24px\">\n",
              "    <g>\n",
              "        <path d=\"M19 3H5c-1.1 0-2 .9-2 2v14c0 1.1.9 2 2 2h14c1.1 0 2-.9 2-2V5c0-1.1-.9-2-2-2zM9 17H7v-7h2v7zm4 0h-2V7h2v10zm4 0h-2v-4h2v4z\"/>\n",
              "    </g>\n",
              "</svg>\n",
              "  </button>\n",
              "\n",
              "<style>\n",
              "  .colab-df-quickchart {\n",
              "      --bg-color: #E8F0FE;\n",
              "      --fill-color: #1967D2;\n",
              "      --hover-bg-color: #E2EBFA;\n",
              "      --hover-fill-color: #174EA6;\n",
              "      --disabled-fill-color: #AAA;\n",
              "      --disabled-bg-color: #DDD;\n",
              "  }\n",
              "\n",
              "  [theme=dark] .colab-df-quickchart {\n",
              "      --bg-color: #3B4455;\n",
              "      --fill-color: #D2E3FC;\n",
              "      --hover-bg-color: #434B5C;\n",
              "      --hover-fill-color: #FFFFFF;\n",
              "      --disabled-bg-color: #3B4455;\n",
              "      --disabled-fill-color: #666;\n",
              "  }\n",
              "\n",
              "  .colab-df-quickchart {\n",
              "    background-color: var(--bg-color);\n",
              "    border: none;\n",
              "    border-radius: 50%;\n",
              "    cursor: pointer;\n",
              "    display: none;\n",
              "    fill: var(--fill-color);\n",
              "    height: 32px;\n",
              "    padding: 0;\n",
              "    width: 32px;\n",
              "  }\n",
              "\n",
              "  .colab-df-quickchart:hover {\n",
              "    background-color: var(--hover-bg-color);\n",
              "    box-shadow: 0 1px 2px rgba(60, 64, 67, 0.3), 0 1px 3px 1px rgba(60, 64, 67, 0.15);\n",
              "    fill: var(--button-hover-fill-color);\n",
              "  }\n",
              "\n",
              "  .colab-df-quickchart-complete:disabled,\n",
              "  .colab-df-quickchart-complete:disabled:hover {\n",
              "    background-color: var(--disabled-bg-color);\n",
              "    fill: var(--disabled-fill-color);\n",
              "    box-shadow: none;\n",
              "  }\n",
              "\n",
              "  .colab-df-spinner {\n",
              "    border: 2px solid var(--fill-color);\n",
              "    border-color: transparent;\n",
              "    border-bottom-color: var(--fill-color);\n",
              "    animation:\n",
              "      spin 1s steps(1) infinite;\n",
              "  }\n",
              "\n",
              "  @keyframes spin {\n",
              "    0% {\n",
              "      border-color: transparent;\n",
              "      border-bottom-color: var(--fill-color);\n",
              "      border-left-color: var(--fill-color);\n",
              "    }\n",
              "    20% {\n",
              "      border-color: transparent;\n",
              "      border-left-color: var(--fill-color);\n",
              "      border-top-color: var(--fill-color);\n",
              "    }\n",
              "    30% {\n",
              "      border-color: transparent;\n",
              "      border-left-color: var(--fill-color);\n",
              "      border-top-color: var(--fill-color);\n",
              "      border-right-color: var(--fill-color);\n",
              "    }\n",
              "    40% {\n",
              "      border-color: transparent;\n",
              "      border-right-color: var(--fill-color);\n",
              "      border-top-color: var(--fill-color);\n",
              "    }\n",
              "    60% {\n",
              "      border-color: transparent;\n",
              "      border-right-color: var(--fill-color);\n",
              "    }\n",
              "    80% {\n",
              "      border-color: transparent;\n",
              "      border-right-color: var(--fill-color);\n",
              "      border-bottom-color: var(--fill-color);\n",
              "    }\n",
              "    90% {\n",
              "      border-color: transparent;\n",
              "      border-bottom-color: var(--fill-color);\n",
              "    }\n",
              "  }\n",
              "</style>\n",
              "\n",
              "  <script>\n",
              "    async function quickchart(key) {\n",
              "      const quickchartButtonEl =\n",
              "        document.querySelector('#' + key + ' button');\n",
              "      quickchartButtonEl.disabled = true;  // To prevent multiple clicks.\n",
              "      quickchartButtonEl.classList.add('colab-df-spinner');\n",
              "      try {\n",
              "        const charts = await google.colab.kernel.invokeFunction(\n",
              "            'suggestCharts', [key], {});\n",
              "      } catch (error) {\n",
              "        console.error('Error during call to suggestCharts:', error);\n",
              "      }\n",
              "      quickchartButtonEl.classList.remove('colab-df-spinner');\n",
              "      quickchartButtonEl.classList.add('colab-df-quickchart-complete');\n",
              "    }\n",
              "    (() => {\n",
              "      let quickchartButtonEl =\n",
              "        document.querySelector('#df-ceb11a03-261c-463e-b067-2c2726fe07ca button');\n",
              "      quickchartButtonEl.style.display =\n",
              "        google.colab.kernel.accessAllowed ? 'block' : 'none';\n",
              "    })();\n",
              "  </script>\n",
              "</div>\n",
              "    </div>\n",
              "  </div>\n"
            ]
          },
          "metadata": {},
          "execution_count": 21
        }
      ]
    },
    {
      "cell_type": "code",
      "source": [
        "# Preparing Data set\n",
        "# dropping Final Mandate variable from X\n",
        "#assign the value of y for training\n",
        "x = data.drop(columns=['FinalMandates'])\n",
        "y = data[[\"FinalMandates\"]]\n",
        "y = y.values.reshape(-1, 1)  # Reshape to make it a 2D array"
      ],
      "metadata": {
        "id": "Zy1khQTsD7o-"
      },
      "execution_count": 14,
      "outputs": []
    },
    {
      "cell_type": "code",
      "source": [
        "#Standardizing value of x by using standardscalar to make the data normally distributed\n",
        "sc = StandardScaler()\n",
        "a = sc.fit_transform(x)\n",
        "df_new_x = pd.DataFrame(a,columns=x.columns)\n",
        "df_new_x.head()"
      ],
      "metadata": {
        "colab": {
          "base_uri": "https://localhost:8080/",
          "height": 256
        },
        "id": "J_gOa1o8EDJv",
        "outputId": "090e18ad-a6c3-4cf8-bc10-66de926b09fe"
      },
      "execution_count": 15,
      "outputs": [
        {
          "output_type": "execute_result",
          "data": {
            "text/plain": [
              "   TimeElapsed      time  territoryName  totalMandates  availableMandates  \\\n",
              "0    -1.752045 -1.206238      -1.741356      -0.767282           0.979379   \n",
              "1    -1.752045 -1.206238      -1.741356      -0.767282           0.979379   \n",
              "2    -1.752045 -1.206238      -1.741356      -0.767282           0.979379   \n",
              "3    -1.752045 -1.206238      -1.741356      -0.767282           0.979379   \n",
              "4    -1.752045 -1.206238      -1.741356      -0.767282           0.979379   \n",
              "\n",
              "   numParishes  numParishesApproved  blankVotes  blankVotesPercentage  \\\n",
              "0    -0.099227            -1.394293    -0.87551              0.540356   \n",
              "1    -0.099227            -1.394293    -0.87551              0.540356   \n",
              "2    -0.099227            -1.394293    -0.87551              0.540356   \n",
              "3    -0.099227            -1.394293    -0.87551              0.540356   \n",
              "4    -0.099227            -1.394293    -0.87551              0.540356   \n",
              "\n",
              "   nullVotes  ...  pre.votersPercentage  pre.subscribedVoters  \\\n",
              "0   -0.95077  ...             -0.133418             -0.900191   \n",
              "1   -0.95077  ...             -0.133418             -0.900191   \n",
              "2   -0.95077  ...             -0.133418             -0.900191   \n",
              "3   -0.95077  ...             -0.133418             -0.900191   \n",
              "4   -0.95077  ...             -0.133418             -0.900191   \n",
              "\n",
              "   pre.totalVoters     Party  Mandates  Percentage  validVotesPercentage  \\\n",
              "0        -0.845089  1.177919 -0.206043    4.612609              4.603604   \n",
              "1        -0.845089 -1.435236 -0.206043    0.644624              0.642757   \n",
              "2        -0.845089 -1.271914 -0.206043    0.448145              0.447038   \n",
              "3        -0.845089  0.197986 -0.206043   -0.105837             -0.106326   \n",
              "4        -0.845089  0.034664 -0.206043   -0.157542             -0.157016   \n",
              "\n",
              "      Votes     Hondt      Date  \n",
              "0 -0.190208  4.560088 -0.421705  \n",
              "1 -0.282371  0.445033 -0.421705  \n",
              "2 -0.286949  0.445033 -0.421705  \n",
              "3 -0.299823 -0.240810 -0.421705  \n",
              "4 -0.301008 -0.240810 -0.421705  \n",
              "\n",
              "[5 rows x 28 columns]"
            ],
            "text/html": [
              "\n",
              "  <div id=\"df-fa868654-7cdf-4c01-9bfc-e087e02c11a5\" class=\"colab-df-container\">\n",
              "    <div>\n",
              "<style scoped>\n",
              "    .dataframe tbody tr th:only-of-type {\n",
              "        vertical-align: middle;\n",
              "    }\n",
              "\n",
              "    .dataframe tbody tr th {\n",
              "        vertical-align: top;\n",
              "    }\n",
              "\n",
              "    .dataframe thead th {\n",
              "        text-align: right;\n",
              "    }\n",
              "</style>\n",
              "<table border=\"1\" class=\"dataframe\">\n",
              "  <thead>\n",
              "    <tr style=\"text-align: right;\">\n",
              "      <th></th>\n",
              "      <th>TimeElapsed</th>\n",
              "      <th>time</th>\n",
              "      <th>territoryName</th>\n",
              "      <th>totalMandates</th>\n",
              "      <th>availableMandates</th>\n",
              "      <th>numParishes</th>\n",
              "      <th>numParishesApproved</th>\n",
              "      <th>blankVotes</th>\n",
              "      <th>blankVotesPercentage</th>\n",
              "      <th>nullVotes</th>\n",
              "      <th>...</th>\n",
              "      <th>pre.votersPercentage</th>\n",
              "      <th>pre.subscribedVoters</th>\n",
              "      <th>pre.totalVoters</th>\n",
              "      <th>Party</th>\n",
              "      <th>Mandates</th>\n",
              "      <th>Percentage</th>\n",
              "      <th>validVotesPercentage</th>\n",
              "      <th>Votes</th>\n",
              "      <th>Hondt</th>\n",
              "      <th>Date</th>\n",
              "    </tr>\n",
              "  </thead>\n",
              "  <tbody>\n",
              "    <tr>\n",
              "      <th>0</th>\n",
              "      <td>-1.752045</td>\n",
              "      <td>-1.206238</td>\n",
              "      <td>-1.741356</td>\n",
              "      <td>-0.767282</td>\n",
              "      <td>0.979379</td>\n",
              "      <td>-0.099227</td>\n",
              "      <td>-1.394293</td>\n",
              "      <td>-0.87551</td>\n",
              "      <td>0.540356</td>\n",
              "      <td>-0.95077</td>\n",
              "      <td>...</td>\n",
              "      <td>-0.133418</td>\n",
              "      <td>-0.900191</td>\n",
              "      <td>-0.845089</td>\n",
              "      <td>1.177919</td>\n",
              "      <td>-0.206043</td>\n",
              "      <td>4.612609</td>\n",
              "      <td>4.603604</td>\n",
              "      <td>-0.190208</td>\n",
              "      <td>4.560088</td>\n",
              "      <td>-0.421705</td>\n",
              "    </tr>\n",
              "    <tr>\n",
              "      <th>1</th>\n",
              "      <td>-1.752045</td>\n",
              "      <td>-1.206238</td>\n",
              "      <td>-1.741356</td>\n",
              "      <td>-0.767282</td>\n",
              "      <td>0.979379</td>\n",
              "      <td>-0.099227</td>\n",
              "      <td>-1.394293</td>\n",
              "      <td>-0.87551</td>\n",
              "      <td>0.540356</td>\n",
              "      <td>-0.95077</td>\n",
              "      <td>...</td>\n",
              "      <td>-0.133418</td>\n",
              "      <td>-0.900191</td>\n",
              "      <td>-0.845089</td>\n",
              "      <td>-1.435236</td>\n",
              "      <td>-0.206043</td>\n",
              "      <td>0.644624</td>\n",
              "      <td>0.642757</td>\n",
              "      <td>-0.282371</td>\n",
              "      <td>0.445033</td>\n",
              "      <td>-0.421705</td>\n",
              "    </tr>\n",
              "    <tr>\n",
              "      <th>2</th>\n",
              "      <td>-1.752045</td>\n",
              "      <td>-1.206238</td>\n",
              "      <td>-1.741356</td>\n",
              "      <td>-0.767282</td>\n",
              "      <td>0.979379</td>\n",
              "      <td>-0.099227</td>\n",
              "      <td>-1.394293</td>\n",
              "      <td>-0.87551</td>\n",
              "      <td>0.540356</td>\n",
              "      <td>-0.95077</td>\n",
              "      <td>...</td>\n",
              "      <td>-0.133418</td>\n",
              "      <td>-0.900191</td>\n",
              "      <td>-0.845089</td>\n",
              "      <td>-1.271914</td>\n",
              "      <td>-0.206043</td>\n",
              "      <td>0.448145</td>\n",
              "      <td>0.447038</td>\n",
              "      <td>-0.286949</td>\n",
              "      <td>0.445033</td>\n",
              "      <td>-0.421705</td>\n",
              "    </tr>\n",
              "    <tr>\n",
              "      <th>3</th>\n",
              "      <td>-1.752045</td>\n",
              "      <td>-1.206238</td>\n",
              "      <td>-1.741356</td>\n",
              "      <td>-0.767282</td>\n",
              "      <td>0.979379</td>\n",
              "      <td>-0.099227</td>\n",
              "      <td>-1.394293</td>\n",
              "      <td>-0.87551</td>\n",
              "      <td>0.540356</td>\n",
              "      <td>-0.95077</td>\n",
              "      <td>...</td>\n",
              "      <td>-0.133418</td>\n",
              "      <td>-0.900191</td>\n",
              "      <td>-0.845089</td>\n",
              "      <td>0.197986</td>\n",
              "      <td>-0.206043</td>\n",
              "      <td>-0.105837</td>\n",
              "      <td>-0.106326</td>\n",
              "      <td>-0.299823</td>\n",
              "      <td>-0.240810</td>\n",
              "      <td>-0.421705</td>\n",
              "    </tr>\n",
              "    <tr>\n",
              "      <th>4</th>\n",
              "      <td>-1.752045</td>\n",
              "      <td>-1.206238</td>\n",
              "      <td>-1.741356</td>\n",
              "      <td>-0.767282</td>\n",
              "      <td>0.979379</td>\n",
              "      <td>-0.099227</td>\n",
              "      <td>-1.394293</td>\n",
              "      <td>-0.87551</td>\n",
              "      <td>0.540356</td>\n",
              "      <td>-0.95077</td>\n",
              "      <td>...</td>\n",
              "      <td>-0.133418</td>\n",
              "      <td>-0.900191</td>\n",
              "      <td>-0.845089</td>\n",
              "      <td>0.034664</td>\n",
              "      <td>-0.206043</td>\n",
              "      <td>-0.157542</td>\n",
              "      <td>-0.157016</td>\n",
              "      <td>-0.301008</td>\n",
              "      <td>-0.240810</td>\n",
              "      <td>-0.421705</td>\n",
              "    </tr>\n",
              "  </tbody>\n",
              "</table>\n",
              "<p>5 rows × 28 columns</p>\n",
              "</div>\n",
              "    <div class=\"colab-df-buttons\">\n",
              "\n",
              "  <div class=\"colab-df-container\">\n",
              "    <button class=\"colab-df-convert\" onclick=\"convertToInteractive('df-fa868654-7cdf-4c01-9bfc-e087e02c11a5')\"\n",
              "            title=\"Convert this dataframe to an interactive table.\"\n",
              "            style=\"display:none;\">\n",
              "\n",
              "  <svg xmlns=\"http://www.w3.org/2000/svg\" height=\"24px\" viewBox=\"0 -960 960 960\">\n",
              "    <path d=\"M120-120v-720h720v720H120Zm60-500h600v-160H180v160Zm220 220h160v-160H400v160Zm0 220h160v-160H400v160ZM180-400h160v-160H180v160Zm440 0h160v-160H620v160ZM180-180h160v-160H180v160Zm440 0h160v-160H620v160Z\"/>\n",
              "  </svg>\n",
              "    </button>\n",
              "\n",
              "  <style>\n",
              "    .colab-df-container {\n",
              "      display:flex;\n",
              "      gap: 12px;\n",
              "    }\n",
              "\n",
              "    .colab-df-convert {\n",
              "      background-color: #E8F0FE;\n",
              "      border: none;\n",
              "      border-radius: 50%;\n",
              "      cursor: pointer;\n",
              "      display: none;\n",
              "      fill: #1967D2;\n",
              "      height: 32px;\n",
              "      padding: 0 0 0 0;\n",
              "      width: 32px;\n",
              "    }\n",
              "\n",
              "    .colab-df-convert:hover {\n",
              "      background-color: #E2EBFA;\n",
              "      box-shadow: 0px 1px 2px rgba(60, 64, 67, 0.3), 0px 1px 3px 1px rgba(60, 64, 67, 0.15);\n",
              "      fill: #174EA6;\n",
              "    }\n",
              "\n",
              "    .colab-df-buttons div {\n",
              "      margin-bottom: 4px;\n",
              "    }\n",
              "\n",
              "    [theme=dark] .colab-df-convert {\n",
              "      background-color: #3B4455;\n",
              "      fill: #D2E3FC;\n",
              "    }\n",
              "\n",
              "    [theme=dark] .colab-df-convert:hover {\n",
              "      background-color: #434B5C;\n",
              "      box-shadow: 0px 1px 3px 1px rgba(0, 0, 0, 0.15);\n",
              "      filter: drop-shadow(0px 1px 2px rgba(0, 0, 0, 0.3));\n",
              "      fill: #FFFFFF;\n",
              "    }\n",
              "  </style>\n",
              "\n",
              "    <script>\n",
              "      const buttonEl =\n",
              "        document.querySelector('#df-fa868654-7cdf-4c01-9bfc-e087e02c11a5 button.colab-df-convert');\n",
              "      buttonEl.style.display =\n",
              "        google.colab.kernel.accessAllowed ? 'block' : 'none';\n",
              "\n",
              "      async function convertToInteractive(key) {\n",
              "        const element = document.querySelector('#df-fa868654-7cdf-4c01-9bfc-e087e02c11a5');\n",
              "        const dataTable =\n",
              "          await google.colab.kernel.invokeFunction('convertToInteractive',\n",
              "                                                    [key], {});\n",
              "        if (!dataTable) return;\n",
              "\n",
              "        const docLinkHtml = 'Like what you see? Visit the ' +\n",
              "          '<a target=\"_blank\" href=https://colab.research.google.com/notebooks/data_table.ipynb>data table notebook</a>'\n",
              "          + ' to learn more about interactive tables.';\n",
              "        element.innerHTML = '';\n",
              "        dataTable['output_type'] = 'display_data';\n",
              "        await google.colab.output.renderOutput(dataTable, element);\n",
              "        const docLink = document.createElement('div');\n",
              "        docLink.innerHTML = docLinkHtml;\n",
              "        element.appendChild(docLink);\n",
              "      }\n",
              "    </script>\n",
              "  </div>\n",
              "\n",
              "\n",
              "<div id=\"df-1a25434a-07c5-48d8-9335-cfcb26fc005b\">\n",
              "  <button class=\"colab-df-quickchart\" onclick=\"quickchart('df-1a25434a-07c5-48d8-9335-cfcb26fc005b')\"\n",
              "            title=\"Suggest charts\"\n",
              "            style=\"display:none;\">\n",
              "\n",
              "<svg xmlns=\"http://www.w3.org/2000/svg\" height=\"24px\"viewBox=\"0 0 24 24\"\n",
              "     width=\"24px\">\n",
              "    <g>\n",
              "        <path d=\"M19 3H5c-1.1 0-2 .9-2 2v14c0 1.1.9 2 2 2h14c1.1 0 2-.9 2-2V5c0-1.1-.9-2-2-2zM9 17H7v-7h2v7zm4 0h-2V7h2v10zm4 0h-2v-4h2v4z\"/>\n",
              "    </g>\n",
              "</svg>\n",
              "  </button>\n",
              "\n",
              "<style>\n",
              "  .colab-df-quickchart {\n",
              "      --bg-color: #E8F0FE;\n",
              "      --fill-color: #1967D2;\n",
              "      --hover-bg-color: #E2EBFA;\n",
              "      --hover-fill-color: #174EA6;\n",
              "      --disabled-fill-color: #AAA;\n",
              "      --disabled-bg-color: #DDD;\n",
              "  }\n",
              "\n",
              "  [theme=dark] .colab-df-quickchart {\n",
              "      --bg-color: #3B4455;\n",
              "      --fill-color: #D2E3FC;\n",
              "      --hover-bg-color: #434B5C;\n",
              "      --hover-fill-color: #FFFFFF;\n",
              "      --disabled-bg-color: #3B4455;\n",
              "      --disabled-fill-color: #666;\n",
              "  }\n",
              "\n",
              "  .colab-df-quickchart {\n",
              "    background-color: var(--bg-color);\n",
              "    border: none;\n",
              "    border-radius: 50%;\n",
              "    cursor: pointer;\n",
              "    display: none;\n",
              "    fill: var(--fill-color);\n",
              "    height: 32px;\n",
              "    padding: 0;\n",
              "    width: 32px;\n",
              "  }\n",
              "\n",
              "  .colab-df-quickchart:hover {\n",
              "    background-color: var(--hover-bg-color);\n",
              "    box-shadow: 0 1px 2px rgba(60, 64, 67, 0.3), 0 1px 3px 1px rgba(60, 64, 67, 0.15);\n",
              "    fill: var(--button-hover-fill-color);\n",
              "  }\n",
              "\n",
              "  .colab-df-quickchart-complete:disabled,\n",
              "  .colab-df-quickchart-complete:disabled:hover {\n",
              "    background-color: var(--disabled-bg-color);\n",
              "    fill: var(--disabled-fill-color);\n",
              "    box-shadow: none;\n",
              "  }\n",
              "\n",
              "  .colab-df-spinner {\n",
              "    border: 2px solid var(--fill-color);\n",
              "    border-color: transparent;\n",
              "    border-bottom-color: var(--fill-color);\n",
              "    animation:\n",
              "      spin 1s steps(1) infinite;\n",
              "  }\n",
              "\n",
              "  @keyframes spin {\n",
              "    0% {\n",
              "      border-color: transparent;\n",
              "      border-bottom-color: var(--fill-color);\n",
              "      border-left-color: var(--fill-color);\n",
              "    }\n",
              "    20% {\n",
              "      border-color: transparent;\n",
              "      border-left-color: var(--fill-color);\n",
              "      border-top-color: var(--fill-color);\n",
              "    }\n",
              "    30% {\n",
              "      border-color: transparent;\n",
              "      border-left-color: var(--fill-color);\n",
              "      border-top-color: var(--fill-color);\n",
              "      border-right-color: var(--fill-color);\n",
              "    }\n",
              "    40% {\n",
              "      border-color: transparent;\n",
              "      border-right-color: var(--fill-color);\n",
              "      border-top-color: var(--fill-color);\n",
              "    }\n",
              "    60% {\n",
              "      border-color: transparent;\n",
              "      border-right-color: var(--fill-color);\n",
              "    }\n",
              "    80% {\n",
              "      border-color: transparent;\n",
              "      border-right-color: var(--fill-color);\n",
              "      border-bottom-color: var(--fill-color);\n",
              "    }\n",
              "    90% {\n",
              "      border-color: transparent;\n",
              "      border-bottom-color: var(--fill-color);\n",
              "    }\n",
              "  }\n",
              "</style>\n",
              "\n",
              "  <script>\n",
              "    async function quickchart(key) {\n",
              "      const quickchartButtonEl =\n",
              "        document.querySelector('#' + key + ' button');\n",
              "      quickchartButtonEl.disabled = true;  // To prevent multiple clicks.\n",
              "      quickchartButtonEl.classList.add('colab-df-spinner');\n",
              "      try {\n",
              "        const charts = await google.colab.kernel.invokeFunction(\n",
              "            'suggestCharts', [key], {});\n",
              "      } catch (error) {\n",
              "        console.error('Error during call to suggestCharts:', error);\n",
              "      }\n",
              "      quickchartButtonEl.classList.remove('colab-df-spinner');\n",
              "      quickchartButtonEl.classList.add('colab-df-quickchart-complete');\n",
              "    }\n",
              "    (() => {\n",
              "      let quickchartButtonEl =\n",
              "        document.querySelector('#df-1a25434a-07c5-48d8-9335-cfcb26fc005b button');\n",
              "      quickchartButtonEl.style.display =\n",
              "        google.colab.kernel.accessAllowed ? 'block' : 'none';\n",
              "    })();\n",
              "  </script>\n",
              "</div>\n",
              "    </div>\n",
              "  </div>\n"
            ]
          },
          "metadata": {},
          "execution_count": 15
        }
      ]
    },
    {
      "cell_type": "code",
      "source": [
        "#Splitting the data into training and testing data\n",
        "x_train,x_test,y_train,y_test=train_test_split(df_new_x,y,test_size=0.3,random_state=45)"
      ],
      "metadata": {
        "id": "PojgJ1XmEKU8"
      },
      "execution_count": 16,
      "outputs": []
    },
    {
      "cell_type": "markdown",
      "source": [
        "#**The top model from step-1 is Random Forest Regressor.**"
      ],
      "metadata": {
        "id": "iRecFmrxDWX2"
      }
    },
    {
      "cell_type": "code",
      "source": [
        "model= RandomForestRegressor(random_state=42)\n",
        "model.fit(x_train,y_train)\n",
        "y_pred = model.predict(x_test)"
      ],
      "metadata": {
        "id": "gd13P7S_DMgH"
      },
      "execution_count": 17,
      "outputs": []
    },
    {
      "cell_type": "code",
      "source": [
        "mse = mean_squared_error(y_test, y_pred)\n",
        "mae = mean_absolute_error(y_test, y_pred)\n",
        "rmse = np.sqrt(mse)\n",
        "r2 = r2_score(y_test, y_pred)"
      ],
      "metadata": {
        "id": "VT7q8jrxExgK"
      },
      "execution_count": 22,
      "outputs": []
    },
    {
      "cell_type": "code",
      "source": [
        "print(f\"{RandomForestRegressor} - MSE: {mse:.4f}, MAE: {mae:.4f}, RMSE: {rmse:.4f}, R2 Score: {rmse:.4f}\")"
      ],
      "metadata": {
        "colab": {
          "base_uri": "https://localhost:8080/"
        },
        "id": "oD_xFvyvGY6c",
        "outputId": "390d1063-4949-4cc0-d4ba-2849416b6c05"
      },
      "execution_count": 23,
      "outputs": [
        {
          "output_type": "stream",
          "name": "stdout",
          "text": [
            "<class 'sklearn.ensemble._forest.RandomForestRegressor'> - MSE: 0.0002, MAE: 0.0009, RMSE: 0.0150, R2 Score: 0.0150\n"
          ]
        }
      ]
    },
    {
      "cell_type": "code",
      "source": [
        "plt.scatter(y_test, y_pred)\n",
        "plt.xlabel('Actual Values')\n",
        "plt.ylabel('Predicted Values')\n",
        "plt.title(f'{RandomForestRegressor} - Actual vs. Predicted')\n",
        "plt.show()"
      ],
      "metadata": {
        "colab": {
          "base_uri": "https://localhost:8080/",
          "height": 472
        },
        "id": "--VJ8TJ6Gfw6",
        "outputId": "258c27a1-27ae-4940-c7e2-6a20cb07875a"
      },
      "execution_count": 20,
      "outputs": [
        {
          "output_type": "display_data",
          "data": {
            "text/plain": [
              "<Figure size 640x480 with 1 Axes>"
            ],
            "image/png": "[encoded data removed]"
          },
          "metadata": {}
        }
      ]
    },
    {
      "cell_type": "markdown",
      "source": [
        "The scatter plot depicts that the actual values alligned correctly with the predicted values."
      ],
      "metadata": {
        "id": "0HSDk32nIG1-"
      }
    },
    {
      "cell_type": "markdown",
      "source": [
        "#**XGB Regressor without Hyper parameter Tuning**"
      ],
      "metadata": {
        "id": "ad28z07AVdbC"
      }
    },
    {
      "cell_type": "code",
      "source": [
        "xgb_before_tuning = XGBRegressor(random_state=42)\n",
        "xgb_before_tuning.fit(x_train, y_train)\n",
        "y_pred_before = xgb_before_tuning.predict(x_test)\n",
        "mse_before_tuning_XGB = mean_squared_error(y_test, y_pred_before)"
      ],
      "metadata": {
        "id": "wMBhjcJxHzNS"
      },
      "execution_count": 24,
      "outputs": []
    },
    {
      "cell_type": "code",
      "source": [
        "mse = mean_squared_error(y_test, y_pred_before)\n",
        "mae = mean_absolute_error(y_test, y_pred_before)\n",
        "rmse = np.sqrt(mse)\n",
        "r2 = r2_score(y_test, y_pred_before)"
      ],
      "metadata": {
        "id": "m8Ic5t2fV2Gt"
      },
      "execution_count": 25,
      "outputs": []
    },
    {
      "cell_type": "code",
      "source": [
        "print(f\"{XGBRegressor} - MSE: {mse:.4f}, MAE: {mae:.4f}, RMSE: {rmse:.4f}, R2 Score: {rmse:.4f}\")"
      ],
      "metadata": {
        "colab": {
          "base_uri": "https://localhost:8080/"
        },
        "id": "vv31GK4wWCVf",
        "outputId": "c9929286-1704-4f13-f28a-052beae6b692"
      },
      "execution_count": 29,
      "outputs": [
        {
          "output_type": "stream",
          "name": "stdout",
          "text": [
            "<class 'xgboost.sklearn.XGBRegressor'> - MSE: 0.0005, MAE: 0.0019, RMSE: 0.0228, R2 Score: 0.0228\n"
          ]
        }
      ]
    },
    {
      "cell_type": "code",
      "source": [
        "plt.scatter(y_test, y_pred_before)\n",
        "plt.xlabel('Actual Values')\n",
        "plt.ylabel('Predicted Values')\n",
        "plt.title(f'{XGBRegressor} - Actual vs. Predicted')\n",
        "plt.show()"
      ],
      "metadata": {
        "colab": {
          "base_uri": "https://localhost:8080/",
          "height": 472
        },
        "id": "tSdhAhBcWGIQ",
        "outputId": "19a3a34e-d356-4f0a-92ab-b0a03293f881"
      },
      "execution_count": 30,
      "outputs": [
        {
          "output_type": "display_data",
          "data": {
            "text/plain": [
              "<Figure size 640x480 with 1 Axes>"
            ],
            "image/png": "[encoded data removed]"
          },
          "metadata": {}
        }
      ]
    },
    {
      "cell_type": "markdown",
      "source": [
        "The scatter plot depicts that there is some misalignment between the actual and predicted values."
      ],
      "metadata": {
        "id": "ep8q0NQlhQbR"
      }
    },
    {
      "cell_type": "markdown",
      "source": [
        "#**Extreme Machine Learning Model**"
      ],
      "metadata": {
        "id": "5MJR0eJzXOvE"
      }
    },
    {
      "cell_type": "code",
      "source": [
        "class ELMRegressor:\n",
        "    def __init__(self, n_input, n_hidden, activation_function=np.tanh):\n",
        "        self.n_input = n_input\n",
        "        self.n_hidden = n_hidden\n",
        "        self.activation_function = activation_function\n",
        "        self.weights_input_hidden = None\n",
        "        self.bias_hidden = None\n",
        "        self.weights_hidden_output = None\n",
        "\n",
        "    def _initialize_weights(self):\n",
        "        self.weights_input_hidden = np.random.rand(self.n_input, self.n_hidden)\n",
        "        self.bias_hidden = np.random.rand(1, self.n_hidden)\n",
        "        self.weights_hidden_output = np.random.rand(self.n_hidden, 1)\n",
        "\n",
        "    def _activation(self, x):\n",
        "        return self.activation_function(x)\n",
        "\n",
        "    def train(self, X, y):\n",
        "        self._initialize_weights()\n",
        "\n",
        "        # Calculate hidden layer output\n",
        "        hidden_output = self._activation(np.dot(X, self.weights_input_hidden) + self.bias_hidden)\n",
        "\n",
        "        # Calculate output layer weights using the Moore-Penrose pseudoinverse\n",
        "        self.weights_hidden_output = np.dot(np.linalg.pinv(hidden_output), y)\n",
        "\n",
        "    def predict(self, X):\n",
        "        hidden_output = self._activation(np.dot(X, self.weights_input_hidden) + self.bias_hidden)\n",
        "        output = np.dot(hidden_output, self.weights_hidden_output)\n",
        "        return output\n",
        "    def mse(self, y_true, y_pred):\n",
        "        return np.mean((y_true - y_pred) ** 2)"
      ],
      "metadata": {
        "id": "ogmRL0jtWkRx"
      },
      "execution_count": 31,
      "outputs": []
    },
    {
      "cell_type": "code",
      "source": [
        "elm = ELMRegressor(n_input = x_train.shape[1], n_hidden=50)\n",
        "elm.train(x_train, y_train)"
      ],
      "metadata": {
        "id": "mLkjwuawXcXt"
      },
      "execution_count": 32,
      "outputs": []
    },
    {
      "cell_type": "code",
      "source": [
        "y_pred_train_ELM = elm.predict(x_train)\n",
        "y_pred_test_ELM = elm.predict(x_test)"
      ],
      "metadata": {
        "id": "0ZBq3327Xilb"
      },
      "execution_count": 33,
      "outputs": []
    },
    {
      "cell_type": "code",
      "source": [
        "mse = mean_squared_error(y_test, y_pred_test_ELM)\n",
        "mae = mean_absolute_error(y_test, y_pred_test_ELM)\n",
        "rmse = np.sqrt(mse)\n",
        "r2 = r2_score(y_test, y_pred_test_ELM)"
      ],
      "metadata": {
        "id": "70rUlMrVXmMP"
      },
      "execution_count": 34,
      "outputs": []
    },
    {
      "cell_type": "code",
      "source": [
        "print(f\"{ELMRegressor} - MSE: {mse:.4f}, MAE: {mae:.4f}, RMSE: {rmse:.4f}, R2 Score: {rmse:.4f}\")"
      ],
      "metadata": {
        "colab": {
          "base_uri": "https://localhost:8080/"
        },
        "id": "v3VHemiRX5pW",
        "outputId": "9460a736-a329-4eb5-a5db-3f2bddb7d3ff"
      },
      "execution_count": 36,
      "outputs": [
        {
          "output_type": "stream",
          "name": "stdout",
          "text": [
            "<class '__main__.ELMRegressor'> - MSE: 1.8147, MAE: 0.6146, RMSE: 1.3471, R2 Score: 1.3471\n"
          ]
        }
      ]
    },
    {
      "cell_type": "code",
      "source": [
        "plt.scatter(y_test, y_pred_test_ELM)\n",
        "plt.xlabel('Actual Values')\n",
        "plt.ylabel('Predicted Values')\n",
        "plt.title(f'{ELMRegressor} - Actual vs. Predicted')\n",
        "plt.show()"
      ],
      "metadata": {
        "colab": {
          "base_uri": "https://localhost:8080/",
          "height": 472
        },
        "id": "KCJc-HnpX-p7",
        "outputId": "fa20f6e1-74b4-4c45-9b38-d9a81c3d7bfa"
      },
      "execution_count": 37,
      "outputs": [
        {
          "output_type": "display_data",
          "data": {
            "text/plain": [
              "<Figure size 640x480 with 1 Axes>"
            ],
            "image/png": "[encoded data removed]"
          },
          "metadata": {}
        }
      ]
    },
    {
      "cell_type": "markdown",
      "source": [
        "The scatter plot depicts that significant observations misaligned between the actual and predicted values."
      ],
      "metadata": {
        "id": "j0vVmTXMhkCF"
      }
    },
    {
      "cell_type": "markdown",
      "source": [
        "#**A Basic Deep Learning Model with two layers**"
      ],
      "metadata": {
        "id": "2qfxhVfEYWz0"
      }
    },
    {
      "cell_type": "code",
      "source": [
        "import tensorflow as tf\n",
        "from tensorflow.keras.models import Sequential\n",
        "from tensorflow.keras.layers import Dense"
      ],
      "metadata": {
        "id": "IhMEEpZNYPyI"
      },
      "execution_count": 38,
      "outputs": []
    },
    {
      "cell_type": "code",
      "source": [
        "# Build the model\n",
        "model = Sequential([\n",
        "    # Input layer (specify the input shape for the first layer)\n",
        "    Dense(units=10, activation='relu', input_shape=(x_train.shape[1],)),\n",
        "\n",
        "    # Hidden layer\n",
        "    Dense(units=5, activation='relu'),\n",
        "\n",
        "    # Output layer\n",
        "    Dense(units=1, activation='linear')  # Assuming it's a regression task\n",
        "])\n",
        "\n",
        "# Compile the model\n",
        "model.compile(optimizer='adam', loss='mean_squared_error')  # Assuming it's a regression task\n",
        "\n",
        "# Print the model summary\n",
        "model.summary()\n"
      ],
      "metadata": {
        "colab": {
          "base_uri": "https://localhost:8080/"
        },
        "id": "1ofLS4-FYiPv",
        "outputId": "29beafe6-a08c-4a71-de18-7d423910d8db"
      },
      "execution_count": 39,
      "outputs": [
        {
          "output_type": "stream",
          "name": "stdout",
          "text": [
            "Model: \"sequential\"\n",
            "_________________________________________________________________\n",
            " Layer (type)                Output Shape              Param #   \n",
            "=================================================================\n",
            " dense (Dense)               (None, 10)                290       \n",
            "                                                                 \n",
            " dense_1 (Dense)             (None, 5)                 55        \n",
            "                                                                 \n",
            " dense_2 (Dense)             (None, 1)                 6         \n",
            "                                                                 \n",
            "=================================================================\n",
            "Total params: 351 (1.37 KB)\n",
            "Trainable params: 351 (1.37 KB)\n",
            "Non-trainable params: 0 (0.00 Byte)\n",
            "_________________________________________________________________\n"
          ]
        }
      ]
    },
    {
      "cell_type": "code",
      "source": [
        "# Train the model\n",
        "history = model.fit(x_train, y_train, epochs=100, batch_size=32, verbose=0)\n",
        "\n",
        "# Make predictions on training and test data\n",
        "y_pred_train = model.predict(x_train).flatten()\n",
        "y_pred_test = model.predict(x_test).flatten()\n",
        "\n",
        "mse = mean_squared_error(y_test, y_pred_test)\n",
        "mae = mean_absolute_error(y_test, y_pred_test)\n",
        "rmse = np.sqrt(mse)\n",
        "r2 = r2_score(y_test, y_pred_test)"
      ],
      "metadata": {
        "colab": {
          "base_uri": "https://localhost:8080/"
        },
        "id": "nZC4AtxsYm5q",
        "outputId": "89aa08c9-f418-49f8-9e13-99895913411d"
      },
      "execution_count": 43,
      "outputs": [
        {
          "output_type": "stream",
          "name": "stdout",
          "text": [
            "402/402 [==============================] - 1s 1ms/step\n",
            "172/172 [==============================] - 0s 2ms/step\n"
          ]
        }
      ]
    },
    {
      "cell_type": "code",
      "source": [
        "print(f\"MSE: {mse:.4f}, MAE: {mae:.4f}, RMSE: {rmse:.4f}, R2 Score: {rmse:.4f}\")"
      ],
      "metadata": {
        "colab": {
          "base_uri": "https://localhost:8080/"
        },
        "id": "BDagHMfyZids",
        "outputId": "7cbbd779-bc90-4e97-f7b5-92c689b58cde"
      },
      "execution_count": 55,
      "outputs": [
        {
          "output_type": "stream",
          "name": "stdout",
          "text": [
            "MSE: 0.0070, MAE: 0.0248, RMSE: 0.0839, R2 Score: 0.0839\n"
          ]
        }
      ]
    },
    {
      "cell_type": "code",
      "source": [
        "# Plot actual vs predicted values on test data\n",
        "plt.scatter(x_test.iloc[:, 0], y_test, label='Actual (Test)')\n",
        "plt.scatter(x_test.iloc[:, 0], y_pred_test, label='Predicted (Test)')\n",
        "plt.xlabel(x_test.columns[0])\n",
        "plt.ylabel('y_test')\n",
        "plt.legend()\n",
        "plt.title('Actual vs Predicted Values on Test Data')\n",
        "plt.show()"
      ],
      "metadata": {
        "colab": {
          "base_uri": "https://localhost:8080/",
          "height": 472
        },
        "id": "TEZ0gTWUbPow",
        "outputId": "c4b78652-bc5d-4aa0-9db4-8c75d14e6fce"
      },
      "execution_count": 56,
      "outputs": [
        {
          "output_type": "display_data",
          "data": {
            "text/plain": [
              "<Figure size 640x480 with 1 Axes>"
            ],
            "image/png": "[encoded data removed]"
          },
          "metadata": {}
        }
      ]
    },
    {
      "cell_type": "markdown",
      "source": [
        "#**An Ensemble model containing the top 3 models overall**"
      ],
      "metadata": {
        "id": "b9fQOgpAbdVS"
      }
    },
    {
      "cell_type": "code",
      "source": [
        "import tensorflow as tf\n",
        "from tensorflow import keras\n",
        "from tensorflow.keras import layers"
      ],
      "metadata": {
        "id": "hJaIu-h7f7Wl"
      },
      "execution_count": 62,
      "outputs": []
    },
    {
      "cell_type": "code",
      "source": [
        "# Train XGBoost model\n",
        "xgb_model = XGBRegressor()\n",
        "xgb_model.fit(x_train, y_train)\n",
        "y_pred_xgb = xgb_model.predict(x_test)\n",
        "\n",
        "# Train Extreme Learning Machine (ELM) model\n",
        "elm_model = ELMRegressor(n_input = x_train.shape[1], n_hidden=50)\n",
        "elm_model.train(x_train, y_train)\n",
        "y_pred_elm = elm_model.predict(x_test)\n",
        "\n",
        "# Train basic deep learning model with two layers using TensorFlow and Keras\n",
        "model = keras.Sequential([\n",
        "    layers.Dense(128, activation='relu', input_shape=(x_train.shape[1],)),\n",
        "    layers.Dense(1)\n",
        "])\n",
        "model.compile(optimizer='adam', loss='mean_squared_error')\n",
        "model.fit(x_train, y_train, epochs=10, batch_size=32, verbose=0)\n",
        "y_pred_dl = model.predict(x_test).flatten()\n",
        "\n",
        "# Ensure dimensions match by reshaping\n",
        "y_pred_xgb = y_pred_xgb.reshape(-1)\n",
        "y_pred_elm = y_pred_elm.reshape(-1)\n",
        "y_pred_dl = y_pred_dl.flatten()\n",
        "\n",
        "# Create ensemble predictions\n",
        "ensemble_predictions = (y_pred_xgb + y_pred_elm + y_pred_dl) / 3.0\n",
        "\n",
        "# Calculate ensemble mean squared error\n",
        "ensemble_mse = mean_squared_error(y_test, ensemble_predictions)"
      ],
      "metadata": {
        "colab": {
          "base_uri": "https://localhost:8080/"
        },
        "id": "L591eW_Acl-p",
        "outputId": "4198d7ce-991a-4f77-f535-4cdec1a06510"
      },
      "execution_count": 64,
      "outputs": [
        {
          "output_type": "stream",
          "name": "stdout",
          "text": [
            "172/172 [==============================] - 0s 1ms/step\n"
          ]
        }
      ]
    },
    {
      "cell_type": "code",
      "source": [
        "print(\"MSE on an Ensemble Model:\", ensemble_mse)"
      ],
      "metadata": {
        "colab": {
          "base_uri": "https://localhost:8080/"
        },
        "id": "I_9omRh4c1QS",
        "outputId": "7dde173c-ab8e-483b-9a68-bab72f53ae20"
      },
      "execution_count": 65,
      "outputs": [
        {
          "output_type": "stream",
          "name": "stdout",
          "text": [
            "MSE on an Ensemble Model: 0.24346072831973858\n"
          ]
        }
      ]
    }
  ]
}